{
 "cells": [
  {
   "cell_type": "markdown",
   "metadata": {},
   "source": [
    "# Homework 1 Forest Wolf"
   ]
  },
  {
   "cell_type": "markdown",
   "metadata": {},
   "source": [
    "### Import Text Adventures"
   ]
  },
  {
   "cell_type": "code",
   "execution_count": 1,
   "metadata": {},
   "outputs": [],
   "source": [
    "from text_adventure_games import (\n",
    "    games, parsing, actions, things, blocks, viz\n",
    ")\n",
    "import text_adventure_games.actions.fish"
   ]
  },
  {
   "cell_type": "markdown",
   "metadata": {},
   "source": [
    "## Locations"
   ]
  },
  {
   "cell_type": "code",
   "execution_count": 2,
   "metadata": {},
   "outputs": [],
   "source": [
    "\n",
    "forest = things.Location(\n",
    "    \"Forest\",\n",
    "    \"You are in a dense forest.\"\n",
    ")\n",
    "\n",
    "river = things.Location(\n",
    "    \"River\",\n",
    "    \"You are standing by a flowing river. You can see fish swimming.\"\n",
    ")\n",
    "\n",
    "cave = things.Location(\n",
    "    \"Cave\",\n",
    "    \"A dark cave lies ahead, but a hungry wolf blocks your way.\"\n",
    ")\n",
    "#loss state\n",
    "cliff = things.Location(\n",
    "    \"Cliff\",\n",
    "    \"There is a steep cliff here. You fall off the cliff and lose the game. THE END\",\n",
    ")\n",
    "cliff.set_property(\"game_over\", True)\n",
    "\n",
    "# Map of Locations\n",
    "forest.add_connection(\"north\", river)\n",
    "# river.add_connection(\"south\", forest)\n",
    "forest.add_connection(\"east\", cave)\n",
    "forest.add_connection(\"south\", cliff)"
   ]
  },
  {
   "cell_type": "markdown",
   "metadata": {},
   "source": [
    "## Items"
   ]
  },
  {
   "cell_type": "markdown",
   "metadata": {},
   "source": [
    "### Gettable Items"
   ]
  },
  {
   "cell_type": "code",
   "execution_count": 3,
   "metadata": {},
   "outputs": [],
   "source": [
    "#tool so player can catch the fish\n",
    "fishing_pole = things.Item(\n",
    "    \"pole\",\n",
    "    \"a fishing pole\",\n",
    "    \"A SIMPLE FISHING POLE.\",\n",
    ")\n",
    "forest.add_item(fishing_pole)\n",
    "\n",
    "# Fish\n",
    "fish = things.Item(\n",
    "    \"fish\",\n",
    "    \"a fish\",\n",
    "    \"A freshly caught fish for feeding a hungry wolf.\"\n",
    ")\n",
    "fish.set_property(\"gettable\", True)\n"
   ]
  },
  {
   "cell_type": "markdown",
   "metadata": {},
   "source": [
    "### Scenery Items\n",
    "\n",
    "_We called these \"non-gettable\"_"
   ]
  },
  {
   "cell_type": "code",
   "execution_count": 4,
   "metadata": {},
   "outputs": [],
   "source": [
    "river = things.Location(\n",
    "    \"River\",\n",
    "    \"You are standing by a flowing river. You can see fish swimming in the water.\"\n",
    ")\n",
    "river.set_property(\"has_fish\", True)\n",
    "river.add_command_hint(\"catch fish with fishing pole\")\n",
    "\n",
    "# Add river as a location that the player can travel to\n",
    "forest.add_connection(\"north\", river)\n",
    "\n",
    "# Wolf\n",
    "wolf = things.Item(\n",
    "    \"wolf\",\n",
    "    \"a hungry wolf\",\n",
    "    \"The wolf is blocking the cave.\"\n",
    ")\n",
    "wolf.set_property(\"feedable\", True)\n",
    "wolf.add_command_hint(\"give fish to wolf\")\n",
    "cave.add_item(wolf)\n"
   ]
  },
  {
   "cell_type": "markdown",
   "metadata": {},
   "source": [
    "## Characters"
   ]
  },
  {
   "cell_type": "markdown",
   "metadata": {},
   "source": [
    "### Player"
   ]
  },
  {
   "cell_type": "code",
   "execution_count": 5,
   "metadata": {},
   "outputs": [],
   "source": [
    "# Player\n",
    "player = things.Character(\n",
    "    name=\"The Player\",\n",
    "    description=\"A brave adventurer seeking treasure.\",\n",
    "    persona=\"I am on an adventure.\",\n",
    ")\n"
   ]
  },
  {
   "cell_type": "markdown",
   "metadata": {},
   "source": [
    "## Actions"
   ]
  },
  {
   "cell_type": "code",
   "execution_count": 6,
   "metadata": {},
   "outputs": [],
   "source": []
  },
  {
   "cell_type": "code",
   "execution_count": 7,
   "metadata": {},
   "outputs": [],
   "source": [
    "class GiveFish(actions.Action):\n",
    "    ACTION_NAME = 'give fish'\n",
    "    ACTION_DESCRIPTION = 'Give a fish to the wolf'\n",
    "\n",
    "    def __init__(self, game, command):\n",
    "        super().__init__(game)\n",
    "        self.command = command\n",
    "        # check if  wolf in the current location\n",
    "        self.wolf = self.parser.match_item(command, self.game.player.location.items.values())\n",
    "        # get the fish from the player's inventory\n",
    "        self.fish = self.parser.match_item(command, self.game.player.get_inventory())\n",
    "\n",
    "    def check_preconditions(self) -> bool:\n",
    "        # check if b the wolf is present in the location\n",
    "        if not self.wolf or self.wolf.name != \"wolf\":\n",
    "            self.parser.fail(\"There is no wolf here to give the fish to.\")\n",
    "            return False\n",
    "        # does player has the fish\n",
    "        if not self.fish or self.fish.name != \"fish\":\n",
    "            self.parser.fail(\"You don't have a fish to give.\")\n",
    "            return False\n",
    "        return True\n",
    "\n",
    "    def apply_effects(self):\n",
    "        #  feed the wolf\n",
    "        self.game.player.remove_item(self.fish.name)\n",
    "        self.wolf.set_property(\"feedable\", False)\n",
    "        self.parser.ok(\"You fed the wolf. It moves away, allowing you to enter the cave.\")\n",
    "        \n",
    "        # The End!!!\n",
    "        self.game.set_game_over(True)\n",
    "        self.parser.ok(\"Congratulations! You have successfully completed the game!\")\n"
   ]
  },
  {
   "cell_type": "markdown",
   "metadata": {},
   "source": [
    "## Game\n"
   ]
  },
  {
   "cell_type": "code",
   "execution_count": 8,
   "metadata": {},
   "outputs": [],
   "source": [
    "class WolfCaveGame(games.Game):\n",
    "    def __init__(self, start_at: things.Location, player: things.Character, wolf: things.Item):\n",
    "        super().__init__(start_at, player)\n",
    "        self.player.set_property(\"is_hungry\", True)\n",
    "        self.wolf = wolf\n",
    "\n",
    "    def is_won(self) -> bool:\n",
    "        if not self.wolf.get_property(\"feedable\"):\n",
    "            self.parser.ok(\"The wolf has been fed, and you can now enter the cave. You win!\")\n",
    "            return True\n",
    "        return False\n",
    "\n",
    "    def is_game_over(self) -> bool:\n",
    "        if super().is_game_over():\n",
    "            return True\n",
    "        if self.is_won():\n",
    "            return True\n",
    "        return False"
   ]
  },
  {
   "cell_type": "code",
   "execution_count": 9,
   "metadata": {},
   "outputs": [
    {
     "data": {
      "image/svg+xml": [
       "<?xml version=\"1.0\" encoding=\"UTF-8\" standalone=\"no\"?>\n",
       "<!DOCTYPE svg PUBLIC \"-//W3C//DTD SVG 1.1//EN\"\n",
       " \"http://www.w3.org/Graphics/SVG/1.1/DTD/svg11.dtd\">\n",
       "<!-- Generated by graphviz version 12.1.0 (20240811.2233)\n",
       " -->\n",
       "<!-- Pages: 1 -->\n",
       "<svg width=\"1766pt\" height=\"242pt\"\n",
       " viewBox=\"0.00 0.00 1766.31 241.52\" xmlns=\"http://www.w3.org/2000/svg\" xmlns:xlink=\"http://www.w3.org/1999/xlink\">\n",
       "<g id=\"graph0\" class=\"graph\" transform=\"scale(1 1) rotate(0) translate(4 237.52)\">\n",
       "<polygon fill=\"white\" stroke=\"none\" points=\"-4,4 -4,-237.52 1762.31,-237.52 1762.31,4 -4,4\"/>\n",
       "<!-- Forest -->\n",
       "<g id=\"node1\" class=\"node\">\n",
       "<title>Forest</title>\n",
       "<ellipse fill=\"#b2dfee\" stroke=\"#b2dfee\" cx=\"879.42\" cy=\"-188.26\" rx=\"109.96\" ry=\"45.25\"/>\n",
       "<text text-anchor=\"start\" x=\"861.04\" y=\"-203.96\" font-family=\"Times,serif\" font-weight=\"bold\" font-size=\"14.00\">Forest</text>\n",
       "<text text-anchor=\"start\" x=\"809.67\" y=\"-189.96\" font-family=\"Times,serif\" font-size=\"14.00\">You are in a dense forest.</text>\n",
       "<text text-anchor=\"start\" x=\"814.92\" y=\"-175.96\" font-family=\"Times,serif\" font-size=\"14.00\">You see: a fishing pole </text>\n",
       "<text text-anchor=\"start\" x=\"812.29\" y=\"-161.96\" font-family=\"Times,serif\" font-size=\"14.00\">Characters: Temp player</text>\n",
       "</g>\n",
       "<!-- River -->\n",
       "<g id=\"node2\" class=\"node\">\n",
       "<title>River</title>\n",
       "<ellipse fill=\"#b2dfee\" stroke=\"#b2dfee\" cx=\"310.42\" cy=\"-45.25\" rx=\"310.42\" ry=\"35.36\"/>\n",
       "<text text-anchor=\"start\" x=\"294.29\" y=\"-53.95\" font-family=\"Times,serif\" font-weight=\"bold\" font-size=\"14.00\">River</text>\n",
       "<text text-anchor=\"start\" x=\"98.92\" y=\"-39.95\" font-family=\"Times,serif\" font-size=\"14.00\">You are standing by a flowing river. You can see fish swimming in the water.</text>\n",
       "<text text-anchor=\"start\" x=\"308.54\" y=\"-25.95\" font-family=\"Times,serif\" font-size=\"14.00\"> </text>\n",
       "</g>\n",
       "<!-- Forest&#45;&gt;River -->\n",
       "<g id=\"edge1\" class=\"edge\">\n",
       "<title>Forest&#45;&gt;River</title>\n",
       "<path fill=\"none\" stroke=\"black\" d=\"M785.78,-164.06C694.22,-141.37 553.72,-106.55 449.18,-80.64\"/>\n",
       "<polygon fill=\"black\" stroke=\"black\" points=\"450.24,-77.3 439.69,-78.29 448.56,-84.09 450.24,-77.3\"/>\n",
       "<text text-anchor=\"middle\" x=\"627.73\" y=\"-111.71\" font-family=\"Times,serif\" font-size=\"14.00\">North</text>\n",
       "</g>\n",
       "<!-- Cave -->\n",
       "<g id=\"node3\" class=\"node\">\n",
       "<title>Cave</title>\n",
       "<ellipse fill=\"#b2dfee\" stroke=\"#b2dfee\" cx=\"879.42\" cy=\"-45.25\" rx=\"240.95\" ry=\"45.25\"/>\n",
       "<text text-anchor=\"start\" x=\"864.79\" y=\"-60.95\" font-family=\"Times,serif\" font-weight=\"bold\" font-size=\"14.00\">Cave</text>\n",
       "<text text-anchor=\"start\" x=\"717.04\" y=\"-46.95\" font-family=\"Times,serif\" font-size=\"14.00\">A dark cave lies ahead, but a hungry wolf blocks your way.</text>\n",
       "<text text-anchor=\"start\" x=\"815.67\" y=\"-32.95\" font-family=\"Times,serif\" font-size=\"14.00\">You see: a hungry wolf</text>\n",
       "<text text-anchor=\"start\" x=\"834.04\" y=\"-18.95\" font-family=\"Times,serif\" font-style=\"italic\" font-size=\"14.00\">give fish to wolf</text>\n",
       "<text text-anchor=\"start\" x=\"921.04\" y=\"-18.95\" font-family=\"Times,serif\" font-size=\"14.00\"> </text>\n",
       "</g>\n",
       "<!-- Forest&#45;&gt;Cave -->\n",
       "<g id=\"edge2\" class=\"edge\">\n",
       "<title>Forest&#45;&gt;Cave</title>\n",
       "<path fill=\"none\" stroke=\"black\" d=\"M861.6,-143.22C859.77,-137.18 858.21,-131 857.17,-125.01 855.85,-117.39 856.1,-109.45 857.3,-101.67\"/>\n",
       "<polygon fill=\"black\" stroke=\"black\" points=\"860.72,-102.44 859.37,-91.93 853.87,-100.98 860.72,-102.44\"/>\n",
       "<text text-anchor=\"middle\" x=\"868.79\" y=\"-111.71\" font-family=\"Times,serif\" font-size=\"14.00\">East</text>\n",
       "</g>\n",
       "<!-- Cliff -->\n",
       "<g id=\"node4\" class=\"node\">\n",
       "<title>Cliff</title>\n",
       "<ellipse fill=\"#b2dfee\" stroke=\"#b2dfee\" cx=\"1448.42\" cy=\"-45.25\" rx=\"309.89\" ry=\"35.36\"/>\n",
       "<text text-anchor=\"start\" x=\"1435.29\" y=\"-53.95\" font-family=\"Times,serif\" font-weight=\"bold\" font-size=\"14.00\">Cliff</text>\n",
       "<text text-anchor=\"start\" x=\"1237.29\" y=\"-39.95\" font-family=\"Times,serif\" font-size=\"14.00\">There is a steep cliff here. You fall off the cliff and lose the game. THE END</text>\n",
       "<text text-anchor=\"start\" x=\"1446.54\" y=\"-25.95\" font-family=\"Times,serif\" font-size=\"14.00\"> </text>\n",
       "</g>\n",
       "<!-- Forest&#45;&gt;Cliff -->\n",
       "<g id=\"edge3\" class=\"edge\">\n",
       "<title>Forest&#45;&gt;Cliff</title>\n",
       "<path fill=\"none\" stroke=\"black\" d=\"M973.06,-164.06C1064.62,-141.37 1205.12,-106.55 1309.66,-80.64\"/>\n",
       "<polygon fill=\"black\" stroke=\"black\" points=\"1310.28,-84.09 1319.15,-78.29 1308.6,-77.3 1310.28,-84.09\"/>\n",
       "<text text-anchor=\"middle\" x=\"1196.73\" y=\"-111.71\" font-family=\"Times,serif\" font-size=\"14.00\">South</text>\n",
       "</g>\n",
       "<!-- River&#45;&gt;Forest -->\n",
       "<g id=\"edge4\" class=\"edge\">\n",
       "<title>River&#45;&gt;Forest</title>\n",
       "<path fill=\"none\" stroke=\"black\" d=\"M489.87,-74.44C541.1,-83.82 596.76,-95.3 647.42,-108.51 694.66,-120.82 746.18,-137.92 788.64,-153.05\"/>\n",
       "<polygon fill=\"black\" stroke=\"black\" points=\"787.21,-156.25 797.8,-156.33 789.57,-149.66 787.21,-156.25\"/>\n",
       "<text text-anchor=\"middle\" x=\"714.77\" y=\"-111.71\" font-family=\"Times,serif\" font-size=\"14.00\">South</text>\n",
       "</g>\n",
       "<!-- Cave&#45;&gt;Forest -->\n",
       "<g id=\"edge5\" class=\"edge\">\n",
       "<title>Cave&#45;&gt;Forest</title>\n",
       "<path fill=\"none\" stroke=\"black\" d=\"M880.31,-90.82C880.44,-101.98 880.51,-113.93 880.42,-125.01 880.4,-127.07 880.38,-129.17 880.36,-131.28\"/>\n",
       "<polygon fill=\"black\" stroke=\"black\" points=\"876.86,-131.16 880.24,-141.2 883.86,-131.25 876.86,-131.16\"/>\n",
       "<text text-anchor=\"middle\" x=\"894.34\" y=\"-111.71\" font-family=\"Times,serif\" font-size=\"14.00\">West</text>\n",
       "</g>\n",
       "<!-- Cliff&#45;&gt;Forest -->\n",
       "<g id=\"edge6\" class=\"edge\">\n",
       "<title>Cliff&#45;&gt;Forest</title>\n",
       "<path fill=\"none\" stroke=\"black\" d=\"M1360.1,-79.59C1317.18,-94.93 1264.58,-112.46 1216.42,-125.01 1143.22,-144.09 1059.6,-159.57 993.97,-170.33\"/>\n",
       "<polygon fill=\"black\" stroke=\"black\" points=\"993.57,-166.85 984.26,-171.9 994.69,-173.75 993.57,-166.85\"/>\n",
       "<text text-anchor=\"middle\" x=\"1283.77\" y=\"-111.71\" font-family=\"Times,serif\" font-size=\"14.00\">North</text>\n",
       "</g>\n",
       "</g>\n",
       "</svg>\n"
      ],
      "text/plain": [
       "<graphviz.graphs.Digraph at 0x10926b9b0>"
      ]
     },
     "execution_count": 9,
     "metadata": {},
     "output_type": "execute_result"
    }
   ],
   "source": [
    "tempgame = games.Game(forest, things.Character(name=\"Temp Player\", description=\"\", persona=\"\"))\n",
    "\n",
    "from text_adventure_games.viz import Visualizer\n",
    "viz = Visualizer(tempgame)\n",
    "graph = viz.visualize()\n",
    "graph"
   ]
  },
  {
   "cell_type": "code",
   "execution_count": 10,
   "metadata": {},
   "outputs": [
    {
     "name": "stdout",
     "output_type": "stream",
     "text": [
      "You are in a dense forest.\n",
      "Exits:\n",
      "North to River\n",
      "East to Cave\n",
      "South to Cliff\n",
      "\n",
      "You see:\n",
      " * a fishing pole\n",
      "Characters:\n",
      " *\n",
      "\n",
      "The Player got the pole.\n",
      "You are standing by a flowing river. You can see fish swimming in the water.\n",
      "Exits:\n",
      "South to Forest\n",
      "\n",
      "\n",
      "\n",
      "\n",
      "The Player dips their hook into the pond and catches a fish\n",
      "You are in a dense forest.\n",
      "Exits:\n",
      "North to River\n",
      "East to Cave\n",
      "South to Cliff\n",
      "\n",
      "\n",
      "Characters:\n",
      " *\n",
      "\n",
      "A dark cave lies ahead, but a hungry wolf blocks your way.\n",
      "Exits:\n",
      "West to Forest\n",
      "\n",
      "You see:\n",
      " * a hungry wolf\n",
      "        give fish to wolf\n",
      "\n",
      "\n",
      "The player gave the fish to The player\n",
      "The player eats the fish. It tastes disgusting! It's raw! And definitely not\n",
      "sashimi-grade!\n",
      "I don't see it.\n",
      "I don't see it.\n",
      "I'm not sure what you want to do.\n",
      "I'm not sure what you want to do.\n",
      "I'm not sure what you want to do.\n",
      "I'm not sure what you want to do.\n",
      "I'm not sure what you want to do.\n"
     ]
    }
   ],
   "source": [
    "from text_adventure_games.actions.fish import Catch_Fish\n",
    "\n",
    "game = WolfCaveGame(forest, player, wolf)\n",
    "game.custom_actions = [GiveFish]\n",
    "game.parser.add_action(Catch_Fish)\n",
    "game.game_loop()"
   ]
  },
  {
   "cell_type": "code",
   "execution_count": null,
   "metadata": {},
   "outputs": [],
   "source": [
    "from text_adventure_games.viz import Visualizer\n",
    "\n",
    "viz = Visualizer(game)\n",
    "graph = viz.visualize()\n",
    "\n",
    "graph"
   ]
  },
  {
   "cell_type": "code",
   "execution_count": null,
   "metadata": {},
   "outputs": [],
   "source": []
  }
 ],
 "metadata": {
  "kernelspec": {
   "display_name": "Python 3 (ipykernel)",
   "language": "python",
   "name": "python3"
  },
  "language_info": {
   "codemirror_mode": {
    "name": "ipython",
    "version": 3
   },
   "file_extension": ".py",
   "mimetype": "text/x-python",
   "name": "python",
   "nbconvert_exporter": "python",
   "pygments_lexer": "ipython3",
   "version": "3.12.5"
  }
 },
 "nbformat": 4,
 "nbformat_minor": 4
}
